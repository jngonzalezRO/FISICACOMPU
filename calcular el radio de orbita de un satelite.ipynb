{
 "cells": [
  {
   "cell_type": "markdown",
   "metadata": {},
   "source": [
    "Para el problema en cuestion se trabajara con las siguientes ecuaciones:\n",
    "\\begin{equation}\n",
    "F=\\frac{G*m1*m2}{r²}\n",
    "\\end{equation}\n",
    "\\begin{equation}\n",
    "F=m1*w*r²\n",
    "\\end{equation}\n",
    "con nuestras ecuaciones podemos igualarlas y con esto consequieremos despejar el radio\n",
    "Para el problema en cuestion se trabajara con las siguientes ecuaciones:\n",
    "\\begin{equation}\n",
    "r=\\sqrt[3]{\\frac{T²*G*m2}{4*\\pi²}}\n",
    "\\end{equation}\n",
    "Esta igualacion es debido a que la fuerza centripeta y la fuerza centrifuga deben ser iguales para que el objeto se mantenga en orbita con una velocidad constante.\n"
   ]
  },
  {
   "cell_type": "code",
   "execution_count": 47,
   "metadata": {},
   "outputs": [
    {
     "name": "stdout",
     "output_type": "stream",
     "text": [
      "35855844.34638021\n"
     ]
    }
   ],
   "source": [
    "MT=5.97e24;\n",
    "G=6.67e-11;\n",
    "T=86400;\n",
    "R=6371000;\n",
    "r=(((T**2)*G*MT)/(4*(3.1416)**2))**(1/3)-R;\n",
    "print(r)"
   ]
  },
  {
   "cell_type": "markdown",
   "metadata": {},
   "source": [
    "para un periodo de 90 minutos y 45 minutos"
   ]
  },
  {
   "cell_type": "code",
   "execution_count": 43,
   "metadata": {},
   "outputs": [
    {
     "name": "stdout",
     "output_type": "stream",
     "text": [
      "279311.257829844 -2181566.428953664\n"
     ]
    }
   ],
   "source": [
    "MT=5.97e24;\n",
    "G=6.67e-11;\n",
    "T1=60*90;\n",
    "T2=45*60;\n",
    "R=6371000;\n",
    "r1=(((T1**2)*G*MT)/(4*(3.1416)**2))**(1/3);\n",
    "r2=(((T2**2)*G*MT)/(4*(3.1416)**2))**(1/3);\n",
    "print(r1-R,r2-R)"
   ]
  },
  {
   "cell_type": "markdown",
   "metadata": {},
   "source": [
    "diferencia de un dia cideral (23.93 horas)con un dia terrestre (24 horas)"
   ]
  },
  {
   "cell_type": "code",
   "execution_count": 46,
   "metadata": {},
   "outputs": [
    {
     "name": "stdout",
     "output_type": "stream",
     "text": [
      "82147.71821463853\n"
     ]
    }
   ],
   "source": [
    "MT=5.97e24;\n",
    "G=6.67e-11;\n",
    "T1=86400;\n",
    "T2=23.93*3600\n",
    "R=6371000;\n",
    "r1=(((T1**2)*G*MT)/(4*(3.1416)**2))**(1/3)-R;\n",
    "r2=(((T2**2)*G*MT)/(4*(3.1416)**2))**(1/3)-R;\n",
    "print(r1-r2)"
   ]
  },
  {
   "cell_type": "code",
   "execution_count": null,
   "metadata": {},
   "outputs": [],
   "source": []
  }
 ],
 "metadata": {
  "kernelspec": {
   "display_name": "Python 3",
   "language": "python",
   "name": "python3"
  },
  "language_info": {
   "codemirror_mode": {
    "name": "ipython",
    "version": 3
   },
   "file_extension": ".py",
   "mimetype": "text/x-python",
   "name": "python",
   "nbconvert_exporter": "python",
   "pygments_lexer": "ipython3",
   "version": "3.5.2"
  }
 },
 "nbformat": 4,
 "nbformat_minor": 2
}
